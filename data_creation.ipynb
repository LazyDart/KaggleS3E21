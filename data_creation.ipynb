{
 "cells": [
  {
   "cell_type": "code",
   "execution_count": 190,
   "metadata": {},
   "outputs": [],
   "source": [
    "import pandas as pd\n",
    "import numpy as np\n",
    "import matplotlib.pyplot as plt"
   ]
  },
  {
   "cell_type": "code",
   "execution_count": 191,
   "metadata": {},
   "outputs": [],
   "source": [
    "df = pd.read_csv(\"sample_submission.csv\")"
   ]
  },
  {
   "cell_type": "code",
   "execution_count": 192,
   "metadata": {},
   "outputs": [],
   "source": [
    "# df.loc[:, df.columns[(((df.corr()**2)[\"target\"]) < 0.0005)]] = 0# & (((df.corr()**2)[\"target\"]) != 1)]"
   ]
  },
  {
   "cell_type": "code",
   "execution_count": 193,
   "metadata": {},
   "outputs": [],
   "source": [
    "# df.to_csv(\"submission.csv\", index=False)"
   ]
  },
  {
   "cell_type": "code",
   "execution_count": 194,
   "metadata": {},
   "outputs": [],
   "source": [
    "df[\"target\"] = df[\"target\"].apply(lambda x: x if x < 18 else np.nan)"
   ]
  },
  {
   "cell_type": "code",
   "execution_count": 195,
   "metadata": {},
   "outputs": [],
   "source": [
    "# Removing values that are from (almost) impossible ranges\n",
    "df.loc[:, df.columns.str.contains(\"^O2\")] = df.loc[:, df.columns.str.contains(\"^O2\")].apply(lambda x: x[(x > 1) & (x < 18)])"
   ]
  },
  {
   "cell_type": "code",
   "execution_count": 196,
   "metadata": {},
   "outputs": [
    {
     "data": {
      "text/html": [
       "<div>\n",
       "<style scoped>\n",
       "    .dataframe tbody tr th:only-of-type {\n",
       "        vertical-align: middle;\n",
       "    }\n",
       "\n",
       "    .dataframe tbody tr th {\n",
       "        vertical-align: top;\n",
       "    }\n",
       "\n",
       "    .dataframe thead th {\n",
       "        text-align: right;\n",
       "    }\n",
       "</style>\n",
       "<table border=\"1\" class=\"dataframe\">\n",
       "  <thead>\n",
       "    <tr style=\"text-align: right;\">\n",
       "      <th></th>\n",
       "      <th>target</th>\n",
       "      <th>O2_1</th>\n",
       "      <th>O2_2</th>\n",
       "      <th>O2_3</th>\n",
       "      <th>O2_4</th>\n",
       "      <th>O2_5</th>\n",
       "      <th>O2_6</th>\n",
       "      <th>O2_7</th>\n",
       "    </tr>\n",
       "  </thead>\n",
       "  <tbody>\n",
       "    <tr>\n",
       "      <th>target</th>\n",
       "      <td>1.000000</td>\n",
       "      <td>0.434769</td>\n",
       "      <td>0.232975</td>\n",
       "      <td>0.006485</td>\n",
       "      <td>0.000735</td>\n",
       "      <td>0.000255</td>\n",
       "      <td>0.014928</td>\n",
       "      <td>0.006983</td>\n",
       "    </tr>\n",
       "    <tr>\n",
       "      <th>O2_1</th>\n",
       "      <td>0.434769</td>\n",
       "      <td>1.000000</td>\n",
       "      <td>0.272437</td>\n",
       "      <td>0.008708</td>\n",
       "      <td>0.003310</td>\n",
       "      <td>0.000273</td>\n",
       "      <td>0.005553</td>\n",
       "      <td>0.002794</td>\n",
       "    </tr>\n",
       "    <tr>\n",
       "      <th>O2_2</th>\n",
       "      <td>0.232975</td>\n",
       "      <td>0.272437</td>\n",
       "      <td>1.000000</td>\n",
       "      <td>0.000370</td>\n",
       "      <td>0.001518</td>\n",
       "      <td>0.005469</td>\n",
       "      <td>0.011236</td>\n",
       "      <td>0.004755</td>\n",
       "    </tr>\n",
       "    <tr>\n",
       "      <th>O2_3</th>\n",
       "      <td>0.006485</td>\n",
       "      <td>0.008708</td>\n",
       "      <td>0.000370</td>\n",
       "      <td>1.000000</td>\n",
       "      <td>0.059757</td>\n",
       "      <td>0.027294</td>\n",
       "      <td>0.049189</td>\n",
       "      <td>0.012786</td>\n",
       "    </tr>\n",
       "    <tr>\n",
       "      <th>O2_4</th>\n",
       "      <td>0.000735</td>\n",
       "      <td>0.003310</td>\n",
       "      <td>0.001518</td>\n",
       "      <td>0.059757</td>\n",
       "      <td>1.000000</td>\n",
       "      <td>0.029395</td>\n",
       "      <td>0.002028</td>\n",
       "      <td>0.000203</td>\n",
       "    </tr>\n",
       "    <tr>\n",
       "      <th>O2_5</th>\n",
       "      <td>0.000255</td>\n",
       "      <td>0.000273</td>\n",
       "      <td>0.005469</td>\n",
       "      <td>0.027294</td>\n",
       "      <td>0.029395</td>\n",
       "      <td>1.000000</td>\n",
       "      <td>0.000055</td>\n",
       "      <td>0.013683</td>\n",
       "    </tr>\n",
       "    <tr>\n",
       "      <th>O2_6</th>\n",
       "      <td>0.014928</td>\n",
       "      <td>0.005553</td>\n",
       "      <td>0.011236</td>\n",
       "      <td>0.049189</td>\n",
       "      <td>0.002028</td>\n",
       "      <td>0.000055</td>\n",
       "      <td>1.000000</td>\n",
       "      <td>0.046861</td>\n",
       "    </tr>\n",
       "    <tr>\n",
       "      <th>O2_7</th>\n",
       "      <td>0.006983</td>\n",
       "      <td>0.002794</td>\n",
       "      <td>0.004755</td>\n",
       "      <td>0.012786</td>\n",
       "      <td>0.000203</td>\n",
       "      <td>0.013683</td>\n",
       "      <td>0.046861</td>\n",
       "      <td>1.000000</td>\n",
       "    </tr>\n",
       "  </tbody>\n",
       "</table>\n",
       "</div>"
      ],
      "text/plain": [
       "          target      O2_1      O2_2      O2_3      O2_4      O2_5      O2_6   \n",
       "target  1.000000  0.434769  0.232975  0.006485  0.000735  0.000255  0.014928  \\\n",
       "O2_1    0.434769  1.000000  0.272437  0.008708  0.003310  0.000273  0.005553   \n",
       "O2_2    0.232975  0.272437  1.000000  0.000370  0.001518  0.005469  0.011236   \n",
       "O2_3    0.006485  0.008708  0.000370  1.000000  0.059757  0.027294  0.049189   \n",
       "O2_4    0.000735  0.003310  0.001518  0.059757  1.000000  0.029395  0.002028   \n",
       "O2_5    0.000255  0.000273  0.005469  0.027294  0.029395  1.000000  0.000055   \n",
       "O2_6    0.014928  0.005553  0.011236  0.049189  0.002028  0.000055  1.000000   \n",
       "O2_7    0.006983  0.002794  0.004755  0.012786  0.000203  0.013683  0.046861   \n",
       "\n",
       "            O2_7  \n",
       "target  0.006983  \n",
       "O2_1    0.002794  \n",
       "O2_2    0.004755  \n",
       "O2_3    0.012786  \n",
       "O2_4    0.000203  \n",
       "O2_5    0.013683  \n",
       "O2_6    0.046861  \n",
       "O2_7    1.000000  "
      ]
     },
     "execution_count": 196,
     "metadata": {},
     "output_type": "execute_result"
    }
   ],
   "source": [
    "df.loc[:, df.columns.str.contains(\"^O2\") | (df.columns == \"target\")].corr()**2"
   ]
  },
  {
   "cell_type": "code",
   "execution_count": 197,
   "metadata": {},
   "outputs": [
    {
     "data": {
      "text/plain": [
       "<Axes: >"
      ]
     },
     "execution_count": 197,
     "metadata": {},
     "output_type": "execute_result"
    },
    {
     "data": {
      "image/png": "[encoded data removed]",
      "text/plain": [
       "<Figure size 640x480 with 1 Axes>"
      ]
     },
     "metadata": {},
     "output_type": "display_data"
    }
   ],
   "source": [
    "df.loc[:, df.columns.str.contains(\"^O2\") | (df.columns == \"target\")].boxplot()"
   ]
  },
  {
   "cell_type": "code",
   "execution_count": 198,
   "metadata": {},
   "outputs": [
    {
     "data": {
      "text/plain": [
       "<Axes: >"
      ]
     },
     "execution_count": 198,
     "metadata": {},
     "output_type": "execute_result"
    },
    {
     "data": {
      "image/png": "[encoded data removed]",
      "text/plain": [
       "<Figure size 640x480 with 1 Axes>"
      ]
     },
     "metadata": {},
     "output_type": "display_data"
    }
   ],
   "source": [
    "df[\"O2_1\"].sort_values().reset_index(drop=True).plot()"
   ]
  },
  {
   "cell_type": "code",
   "execution_count": 199,
   "metadata": {},
   "outputs": [],
   "source": [
    "for_plot_slice = df.loc[:, df.columns.str.contains(\"^O2\") | (df.columns == \"target\")]"
   ]
  },
  {
   "cell_type": "code",
   "execution_count": 200,
   "metadata": {},
   "outputs": [],
   "source": [
    "df.loc[:, df.columns.str.contains(\"^O2\")] = df.loc[:, df.columns.str.contains(\"^O2\")].groupby(df.columns[df.columns.str.contains(\"^O2\")], axis=1, group_keys=False).apply(lambda x: x.fillna(x.mean()))#.to_csv(\"submission.csv\", index=False)"
   ]
  },
  {
   "cell_type": "code",
   "execution_count": 203,
   "metadata": {},
   "outputs": [],
   "source": [
    "df.dropna().to_csv(\"submission.csv\", index=False)"
   ]
  },
  {
   "cell_type": "code",
   "execution_count": 204,
   "metadata": {},
   "outputs": [
    {
     "data": {
      "text/html": [
       "<div>\n",
       "<style scoped>\n",
       "    .dataframe tbody tr th:only-of-type {\n",
       "        vertical-align: middle;\n",
       "    }\n",
       "\n",
       "    .dataframe tbody tr th {\n",
       "        vertical-align: top;\n",
       "    }\n",
       "\n",
       "    .dataframe thead th {\n",
       "        text-align: right;\n",
       "    }\n",
       "</style>\n",
       "<table border=\"1\" class=\"dataframe\">\n",
       "  <thead>\n",
       "    <tr style=\"text-align: right;\">\n",
       "      <th></th>\n",
       "      <th>target</th>\n",
       "      <th>O2_1</th>\n",
       "      <th>O2_2</th>\n",
       "      <th>O2_3</th>\n",
       "      <th>O2_4</th>\n",
       "      <th>O2_5</th>\n",
       "      <th>O2_6</th>\n",
       "      <th>O2_7</th>\n",
       "    </tr>\n",
       "  </thead>\n",
       "  <tbody>\n",
       "    <tr>\n",
       "      <th>target</th>\n",
       "      <td>1.000000</td>\n",
       "      <td>0.430622</td>\n",
       "      <td>0.229337</td>\n",
       "      <td>0.006485</td>\n",
       "      <td>0.000735</td>\n",
       "      <td>0.000241</td>\n",
       "      <td>0.014916</td>\n",
       "      <td>0.006981</td>\n",
       "    </tr>\n",
       "    <tr>\n",
       "      <th>O2_1</th>\n",
       "      <td>0.430622</td>\n",
       "      <td>1.000000</td>\n",
       "      <td>0.267791</td>\n",
       "      <td>0.008580</td>\n",
       "      <td>0.003287</td>\n",
       "      <td>0.000258</td>\n",
       "      <td>0.005523</td>\n",
       "      <td>0.002781</td>\n",
       "    </tr>\n",
       "    <tr>\n",
       "      <th>O2_2</th>\n",
       "      <td>0.229337</td>\n",
       "      <td>0.267791</td>\n",
       "      <td>1.000000</td>\n",
       "      <td>0.000351</td>\n",
       "      <td>0.001425</td>\n",
       "      <td>0.004961</td>\n",
       "      <td>0.010857</td>\n",
       "      <td>0.004484</td>\n",
       "    </tr>\n",
       "    <tr>\n",
       "      <th>O2_3</th>\n",
       "      <td>0.006485</td>\n",
       "      <td>0.008580</td>\n",
       "      <td>0.000351</td>\n",
       "      <td>1.000000</td>\n",
       "      <td>0.059558</td>\n",
       "      <td>0.025955</td>\n",
       "      <td>0.049139</td>\n",
       "      <td>0.012769</td>\n",
       "    </tr>\n",
       "    <tr>\n",
       "      <th>O2_4</th>\n",
       "      <td>0.000735</td>\n",
       "      <td>0.003287</td>\n",
       "      <td>0.001425</td>\n",
       "      <td>0.059558</td>\n",
       "      <td>1.000000</td>\n",
       "      <td>0.028744</td>\n",
       "      <td>0.002022</td>\n",
       "      <td>0.000203</td>\n",
       "    </tr>\n",
       "    <tr>\n",
       "      <th>O2_5</th>\n",
       "      <td>0.000241</td>\n",
       "      <td>0.000258</td>\n",
       "      <td>0.004961</td>\n",
       "      <td>0.025955</td>\n",
       "      <td>0.028744</td>\n",
       "      <td>1.000000</td>\n",
       "      <td>0.000053</td>\n",
       "      <td>0.013374</td>\n",
       "    </tr>\n",
       "    <tr>\n",
       "      <th>O2_6</th>\n",
       "      <td>0.014916</td>\n",
       "      <td>0.005523</td>\n",
       "      <td>0.010857</td>\n",
       "      <td>0.049139</td>\n",
       "      <td>0.002022</td>\n",
       "      <td>0.000053</td>\n",
       "      <td>1.000000</td>\n",
       "      <td>0.046795</td>\n",
       "    </tr>\n",
       "    <tr>\n",
       "      <th>O2_7</th>\n",
       "      <td>0.006981</td>\n",
       "      <td>0.002781</td>\n",
       "      <td>0.004484</td>\n",
       "      <td>0.012769</td>\n",
       "      <td>0.000203</td>\n",
       "      <td>0.013374</td>\n",
       "      <td>0.046795</td>\n",
       "      <td>1.000000</td>\n",
       "    </tr>\n",
       "  </tbody>\n",
       "</table>\n",
       "</div>"
      ],
      "text/plain": [
       "          target      O2_1      O2_2      O2_3      O2_4      O2_5      O2_6   \n",
       "target  1.000000  0.430622  0.229337  0.006485  0.000735  0.000241  0.014916  \\\n",
       "O2_1    0.430622  1.000000  0.267791  0.008580  0.003287  0.000258  0.005523   \n",
       "O2_2    0.229337  0.267791  1.000000  0.000351  0.001425  0.004961  0.010857   \n",
       "O2_3    0.006485  0.008580  0.000351  1.000000  0.059558  0.025955  0.049139   \n",
       "O2_4    0.000735  0.003287  0.001425  0.059558  1.000000  0.028744  0.002022   \n",
       "O2_5    0.000241  0.000258  0.004961  0.025955  0.028744  1.000000  0.000053   \n",
       "O2_6    0.014916  0.005523  0.010857  0.049139  0.002022  0.000053  1.000000   \n",
       "O2_7    0.006981  0.002781  0.004484  0.012769  0.000203  0.013374  0.046795   \n",
       "\n",
       "            O2_7  \n",
       "target  0.006981  \n",
       "O2_1    0.002781  \n",
       "O2_2    0.004484  \n",
       "O2_3    0.012769  \n",
       "O2_4    0.000203  \n",
       "O2_5    0.013374  \n",
       "O2_6    0.046795  \n",
       "O2_7    1.000000  "
      ]
     },
     "execution_count": 204,
     "metadata": {},
     "output_type": "execute_result"
    }
   ],
   "source": [
    "df.loc[:, df.columns.str.contains(\"^O2\") | (df.columns == \"target\")].corr()**2"
   ]
  }
 ],
 "metadata": {
  "kernelspec": {
   "display_name": "tensorflow",
   "language": "python",
   "name": "python3"
  },
  "language_info": {
   "codemirror_mode": {
    "name": "ipython",
    "version": 3
   },
   "file_extension": ".py",
   "mimetype": "text/x-python",
   "name": "python",
   "nbconvert_exporter": "python",
   "pygments_lexer": "ipython3",
   "version": "3.11.2"
  },
  "orig_nbformat": 4
 },
 "nbformat": 4,
 "nbformat_minor": 2
}
